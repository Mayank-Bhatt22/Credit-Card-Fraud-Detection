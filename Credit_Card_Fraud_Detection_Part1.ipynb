{
 "cells": [
  {
   "cell_type": "markdown",
   "id": "c968e19e",
   "metadata": {},
   "source": [
    "# **Credit Card Fraud Detection (Part 1)**\n",
    "\n",
    "This notebook focuses on loading and exploring the dataset, performing preprocessing steps, \n",
    "and preparing data for model training.\n"
   ]
  },
  {
   "cell_type": "code",
   "execution_count": null,
   "id": "9496b4a2",
   "metadata": {},
   "outputs": [],
   "source": [
    "import pandas as pd\n",
    "import numpy as np\n",
    "import matplotlib.pyplot as plt\n",
    "import seaborn as sns\n",
    "\n",
    "from sklearn.model_selection import train_test_split\n",
    "from sklearn.preprocessing import StandardScaler\n",
    "\n",
    "%matplotlib inline\n"
   ]
  },
  {
   "cell_type": "code",
   "execution_count": null,
   "id": "ef8edd91",
   "metadata": {},
   "outputs": [],
   "source": [
    "# Load dataset\n",
    "df = pd.read_csv(\"creditcard.csv\")\n",
    "df.head()\n"
   ]
  },
  {
   "cell_type": "code",
   "execution_count": null,
   "id": "c735643a",
   "metadata": {},
   "outputs": [],
   "source": [
    "# Dataset info\n",
    "df.info()\n",
    "\n",
    "# Check missing values\n",
    "print(\"\\nMissing values:\\n\", df.isnull().sum())\n",
    "\n",
    "# Basic statistics\n",
    "df.describe()\n"
   ]
  },
  {
   "cell_type": "code",
   "execution_count": null,
   "id": "382a3b19",
   "metadata": {},
   "outputs": [],
   "source": [
    "# Class distribution visualization\n",
    "plt.figure(figsize=(5,4))\n",
    "sns.countplot(x='Class', data=df)\n",
    "plt.title('Class Distribution (0 = Genuine, 1 = Fraud)')\n",
    "plt.show()\n"
   ]
  },
  {
   "cell_type": "code",
   "execution_count": null,
   "id": "a9c8d70e",
   "metadata": {},
   "outputs": [],
   "source": [
    "# Split features and target\n",
    "X = df.drop('Class', axis=1)\n",
    "y = df['Class']\n",
    "\n",
    "# Scale 'Time' and 'Amount'\n",
    "scaler = StandardScaler()\n",
    "X[['Time', 'Amount']] = scaler.fit_transform(X[['Time', 'Amount']])\n",
    "\n",
    "# Train-Test Split\n",
    "X_train, X_test, y_train, y_test = train_test_split(\n",
    "    X, y, test_size=0.2, random_state=42, stratify=y\n",
    ")\n",
    "\n",
    "print(\"Training shape:\", X_train.shape)\n",
    "print(\"Testing shape:\", X_test.shape)\n"
   ]
  }
 ],
 "metadata": {},
 "nbformat": 4,
 "nbformat_minor": 5
}
